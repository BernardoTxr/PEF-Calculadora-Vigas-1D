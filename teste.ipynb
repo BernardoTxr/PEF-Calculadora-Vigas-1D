{
 "cells": [
  {
   "cell_type": "code",
   "execution_count": 1,
   "metadata": {},
   "outputs": [],
   "source": [
    "# Standard Library Imports\n",
    "from collections import namedtuple\n",
    "from math import radians\n",
    "import time\n",
    "\n",
    "# Third Party Imports\n",
    "import numpy as np\n",
    "from sympy import (integrate, lambdify, Piecewise, sympify, symbols,\n",
    "                   linsolve, sin, cos, oo, SingularityFunction)\n",
    "from sympy.abc import x\n",
    "from plotly.subplots import make_subplots\n",
    "import plotly.graph_objects as go\n",
    "\n",
    "# Importar de outros arquivos:\n",
    "from modules.viga_creator import Viga"
   ]
  },
  {
   "cell_type": "code",
   "execution_count": 2,
   "metadata": {},
   "outputs": [],
   "source": [
    "minha_viga = Viga(3,3,3)"
   ]
  },
  {
   "cell_type": "code",
   "execution_count": 3,
   "metadata": {},
   "outputs": [
    {
     "name": "stdout",
     "output_type": "stream",
     "text": [
      "Calculando forças horizontais\n",
      "Calculando forças verticais\n",
      "Calculando momento\n"
     ]
    }
   ],
   "source": [
    "minha_viga.calcular_reacoes()"
   ]
  },
  {
   "cell_type": "code",
   "execution_count": 4,
   "metadata": {},
   "outputs": [
    {
     "name": "stdout",
     "output_type": "stream",
     "text": [
      "Printando gráfico da normal\n",
      "Printando gráfico do cortante\n",
      "Printando gráfico do fletor\n"
     ]
    }
   ],
   "source": [
    "minha_viga.printar_graficos()"
   ]
  }
 ],
 "metadata": {
  "kernelspec": {
   "display_name": "Python 3",
   "language": "python",
   "name": "python3"
  },
  "language_info": {
   "codemirror_mode": {
    "name": "ipython",
    "version": 3
   },
   "file_extension": ".py",
   "mimetype": "text/x-python",
   "name": "python",
   "nbconvert_exporter": "python",
   "pygments_lexer": "ipython3",
   "version": "3.10.12"
  }
 },
 "nbformat": 4,
 "nbformat_minor": 2
}
