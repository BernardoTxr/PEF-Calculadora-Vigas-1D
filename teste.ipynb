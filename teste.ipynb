{
 "cells": [
  {
   "cell_type": "code",
   "execution_count": 1,
   "metadata": {},
   "outputs": [],
   "source": [
    "# Standard Library Imports\n",
    "from collections import namedtuple\n",
    "from math import radians\n",
    "import time\n",
    "\n",
    "# Third Party Imports\n",
    "import numpy as np\n",
    "from sympy import (integrate, lambdify, Piecewise, sympify, symbols,\n",
    "                   linsolve, sin, cos, oo, SingularityFunction)\n",
    "from sympy.abc import x\n",
    "from plotly.subplots import make_subplots\n",
    "import plotly.graph_objects as go\n",
    "\n",
    "# Importar de outros arquivos:\n",
    "from modules.viga_creator import Viga"
   ]
  },
  {
   "cell_type": "code",
   "execution_count": 3,
   "metadata": {},
   "outputs": [
    {
     "name": "stdout",
     "output_type": "stream",
     "text": [
      "Printando desenho inicial\n"
     ]
    },
    {
     "data": {
      "image/png": "[encoded data removed]",
      "text/plain": [
       "<Figure size 640x480 with 1 Axes>"
      ]
     },
     "metadata": {},
     "output_type": "display_data"
    }
   ],
   "source": [
    "# Interface com o usuário\n",
    "tamanho_viga = float(input(\"Digite o tamanho da viga: \"))\n",
    "\n",
    "forca = -1.0\n",
    "forcas_horizontais = []\n",
    "locais_de_aplicacao_horizontais = []\n",
    "while forca != 0:\n",
    "    forca = float(input(\"Digite a força horizontal aplicada: \"))\n",
    "    if forca != 0:\n",
    "        forcas_horizontais.append(forca)\n",
    "        locais_de_aplicacao_horizontais.append(float(input(\"Digite a localização da força horizontal: \")))\n",
    "\n",
    "forca = -1.0\n",
    "forcas_verticais = []\n",
    "locais_de_aplicacao_verticais = []\n",
    "while forca != 0:\n",
    "    forca = float(input(\"Digite a força vertical aplicada: \"))\n",
    "    if forca != 0:\n",
    "        forcas_verticais.append(forca)\n",
    "        locais_de_aplicacao_verticais.append(float(input(\"Digite a localização vertical da força: \")))\n",
    "\n",
    "momento = -1.0\n",
    "momentos = []\n",
    "locais_de_aplicacao_momentos = []\n",
    "while momento!=0:\n",
    "    momento = float(input(\"Digite o momento aplicado: \"))\n",
    "    if momento != 0:\n",
    "        momentos.append(momento)\n",
    "        locais_de_aplicacao_momentos.append(float(input(\"Digite a localização do momento: \")))\n",
    "\n",
    "# Localização dos suportes da viga\n",
    "suportes = []\n",
    "suporte = -1.0\n",
    "while suporte != 0:\n",
    "    suporte = float(input(\"Digite a localização dos suportes: \"))\n",
    "    if suporte != 0:\n",
    "        suportes.append(suporte)\n",
    "\n",
    "# Criação da viga\n",
    "viga = Viga(tamanho_viga, locais_de_aplicacao_verticais, forcas_verticais, momentos, suportes)"
   ]
  },
  {
   "cell_type": "code",
   "execution_count": 3,
   "metadata": {},
   "outputs": [
    {
     "name": "stdout",
     "output_type": "stream",
     "text": [
      "Calculando forças horizontais\n",
      "Calculando forças verticais\n",
      "Calculando momento\n"
     ]
    }
   ],
   "source": [
    "minha_viga.calcular_reacoes()"
   ]
  },
  {
   "cell_type": "code",
   "execution_count": 4,
   "metadata": {},
   "outputs": [
    {
     "name": "stdout",
     "output_type": "stream",
     "text": [
      "Printando gráfico da normal\n",
      "Printando gráfico do cortante\n",
      "Printando gráfico do fletor\n"
     ]
    }
   ],
   "source": [
    "minha_viga.printar_graficos()"
   ]
  }
 ],
 "metadata": {
  "kernelspec": {
   "display_name": "Python 3",
   "language": "python",
   "name": "python3"
  },
  "language_info": {
   "codemirror_mode": {
    "name": "ipython",
    "version": 3
   },
   "file_extension": ".py",
   "mimetype": "text/x-python",
   "name": "python",
   "nbconvert_exporter": "python",
   "pygments_lexer": "ipython3",
   "version": "3.10.12"
  }
 },
 "nbformat": 4,
 "nbformat_minor": 2
}
